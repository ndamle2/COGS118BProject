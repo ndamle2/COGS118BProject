{
 "cells": [
  {
   "cell_type": "code",
   "execution_count": 1,
   "metadata": {},
   "outputs": [],
   "source": [
    "import numpy as np\n",
    "import pandas as pd\n",
    "from sklearn.model_selection import train_test_split"
   ]
  },
  {
   "cell_type": "markdown",
   "metadata": {},
   "source": [
    "<p>Import libraries.</p>"
   ]
  },
  {
   "cell_type": "code",
   "execution_count": 2,
   "metadata": {},
   "outputs": [],
   "source": [
    "class linearRegression:\n",
    "    def __init__(self, learningRate=0.01, iterations=1000):\n",
    "        self.learningRate = learningRate\n",
    "        self.iterations = iterations\n",
    "        self.weights = None\n",
    "        self.bias = None\n",
    "\n",
    "    def fit(self, features, target):\n",
    "        nSamples, nFeatures = features.shape\n",
    "        self.weights = np.zeros(nFeatures)\n",
    "        self.bias = 0\n",
    "\n",
    "        for _ in range(self.iterations):\n",
    "            yPredicted = np.dot(features, self.weights) + self.bias\n",
    "            dw = (1 / nSamples) * np.dot(features.T, (yPredicted - target))\n",
    "            db = (1 / nSamples) * np.sum(yPredicted - target)\n",
    "            self.weights -= self.learningRate * dw\n",
    "            self.bias -= self.learningRate * db\n",
    "\n",
    "    def predict(self, features):\n",
    "        return np.dot(features, self.weights) + self.bias"
   ]
  },
  {
   "cell_type": "markdown",
   "metadata": {},
   "source": [
    "<p>__init__ function: Initialize class variables.</p>\n",
    "<p>fit function: fit the model, create feature matrix and target variable. Use gradient descent to determine weights and bias. Update weights and bias at bottom of loop. </p>\n",
    "<p>predict function: predict values using the trained weights and bias.</p>"
   ]
  },
  {
   "cell_type": "code",
   "execution_count": 3,
   "metadata": {},
   "outputs": [],
   "source": [
    "plays = pd.read_csv(\"data/plays.csv\")"
   ]
  },
  {
   "cell_type": "markdown",
   "metadata": {},
   "source": [
    "Load data"
   ]
  },
  {
   "cell_type": "code",
   "execution_count": 4,
   "metadata": {},
   "outputs": [],
   "source": [
    "def playType(description):\n",
    "    if \"pass\" in description.lower():\n",
    "        return \"Pass\"\n",
    "    elif \"run\" in description.lower():\n",
    "        return \"Run\"\n",
    "    return \"Unknown\"\n",
    "\n",
    "def side(description):\n",
    "    if \"right\" in description.lower():\n",
    "        return \"Right\"\n",
    "    elif \"left\" in description.lower():\n",
    "        return \"Left\"\n",
    "    return \"Center\""
   ]
  },
  {
   "cell_type": "markdown",
   "metadata": {},
   "source": [
    "<p>Extract play type and side data.</p>"
   ]
  },
  {
   "cell_type": "code",
   "execution_count": 5,
   "metadata": {},
   "outputs": [],
   "source": [
    "plays[\"playType\"] = plays[\"playDescription\"].apply(playType)\n",
    "plays[\"playSide\"] = plays[\"playDescription\"].apply(side)"
   ]
  },
  {
   "cell_type": "markdown",
   "metadata": {},
   "source": [
    "<p>Use functions to create new columns.</p>"
   ]
  },
  {
   "cell_type": "code",
   "execution_count": 6,
   "metadata": {},
   "outputs": [],
   "source": [
    "plays[\"yardsGained\"] = plays[\"expectedPointsAdded\"]"
   ]
  },
  {
   "cell_type": "markdown",
   "metadata": {},
   "source": [
    "<p>Yards gained is target variable.</p>"
   ]
  },
  {
   "cell_type": "code",
   "execution_count": 7,
   "metadata": {},
   "outputs": [],
   "source": [
    "filterPlays = plays[\n",
    "   (plays[\"playType\"].isin([\"Pass\", \"Run\"])) &\n",
    "   (plays[\"playSide\"].isin([\"Right\", \"Left\"])) \n",
    "]"
   ]
  },
  {
   "cell_type": "markdown",
   "metadata": {},
   "source": [
    "<p>Filter out Unkown and Center side plays.</p>"
   ]
  },
  {
   "cell_type": "code",
   "execution_count": 8,
   "metadata": {},
   "outputs": [
    {
     "name": "stderr",
     "output_type": "stream",
     "text": [
      "/var/folders/7n/d383kplx7m12pd57mzwv4hsh0000gn/T/ipykernel_12140/2337490182.py:1: SettingWithCopyWarning: \n",
      "A value is trying to be set on a copy of a slice from a DataFrame.\n",
      "Try using .loc[row_indexer,col_indexer] = value instead\n",
      "\n",
      "See the caveats in the documentation: https://pandas.pydata.org/pandas-docs/stable/user_guide/indexing.html#returning-a-view-versus-a-copy\n",
      "  filterPlays[\"encodePlayType\"] = filterPlays[\"playType\"].map({\"Run\": 0, \"Pass\": 1})\n",
      "/var/folders/7n/d383kplx7m12pd57mzwv4hsh0000gn/T/ipykernel_12140/2337490182.py:2: SettingWithCopyWarning: \n",
      "A value is trying to be set on a copy of a slice from a DataFrame.\n",
      "Try using .loc[row_indexer,col_indexer] = value instead\n",
      "\n",
      "See the caveats in the documentation: https://pandas.pydata.org/pandas-docs/stable/user_guide/indexing.html#returning-a-view-versus-a-copy\n",
      "  filterPlays[\"encodeSideType\"] = filterPlays[\"playSide\"].map({\"Left\": 0, \"Right\": 1})\n"
     ]
    }
   ],
   "source": [
    "filterPlays[\"encodePlayType\"] = filterPlays[\"playType\"].map({\"Run\": 0, \"Pass\": 1})\n",
    "filterPlays[\"encodeSideType\"] = filterPlays[\"playSide\"].map({\"Left\": 0, \"Right\": 1})"
   ]
  },
  {
   "cell_type": "code",
   "execution_count": 9,
   "metadata": {},
   "outputs": [],
   "source": [
    "X = filterPlays[[\"encodePlayType\", \"encodeSideType\"]].values\n",
    "y = filterPlays[\"yardsGained\"].values"
   ]
  },
  {
   "cell_type": "markdown",
   "metadata": {},
   "source": [
    "<p>Create feature matrix and target variable.</p>"
   ]
  },
  {
   "cell_type": "code",
   "execution_count": 10,
   "metadata": {},
   "outputs": [],
   "source": [
    "XTrain, XTest, yTrain, yTest = train_test_split(X, y, test_size = 0.2, random_state=42)"
   ]
  },
  {
   "cell_type": "markdown",
   "metadata": {},
   "source": [
    "<p>Create training and test data splits.</p>"
   ]
  },
  {
   "cell_type": "code",
   "execution_count": 12,
   "metadata": {},
   "outputs": [
    {
     "name": "stdout",
     "output_type": "stream",
     "text": [
      "Best Learning Rate:  0.5\n",
      "Lowest MSE:  1.7774829296306685\n"
     ]
    }
   ],
   "source": [
    "learningRates = [0.001, 0.01, 0.05, 0.1, 0.25, 0.5, 1.0]\n",
    "iterations = 1000\n",
    "results = []\n",
    "\n",
    "for lRate in learningRates:\n",
    "    linReg = linearRegression(learningRate=lRate, iterations=iterations)\n",
    "    linReg.fit(XTrain, yTrain)\n",
    "    yPred = linReg.predict(XTest)\n",
    "    errorMeasure = np.mean((yTest - yPred) ** 2)\n",
    "    results.append({\"Learning Rate\": lRate, \"MSE\": errorMeasure})\n",
    "results2 = pd.DataFrame(results)\n",
    "best = results2.sort_values(by=\"MSE\", ascending=True).iloc[0]\n",
    "\n",
    "print(\"Best Learning Rate: \", best[\"Learning Rate\"])\n",
    "print(\"Lowest MSE: \", best[\"MSE\"])"
   ]
  },
  {
   "cell_type": "markdown",
   "metadata": {},
   "source": [
    "<p>Performs a parameter sweep over different learning rates for a linear regression to find which is best. Predictions are made on XTest and MSE is calculatd. Results are stored in a dataframe and the learning rate with lowest MSE is printed</p>"
   ]
  },
  {
   "cell_type": "markdown",
   "metadata": {},
   "source": []
  }
 ],
 "metadata": {
  "kernelspec": {
   "display_name": "Python 3",
   "language": "python",
   "name": "python3"
  },
  "language_info": {
   "codemirror_mode": {
    "name": "ipython",
    "version": 3
   },
   "file_extension": ".py",
   "mimetype": "text/x-python",
   "name": "python",
   "nbconvert_exporter": "python",
   "pygments_lexer": "ipython3",
   "version": "3.12.5"
  }
 },
 "nbformat": 4,
 "nbformat_minor": 2
}
