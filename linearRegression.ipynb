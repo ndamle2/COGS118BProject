{
 "cells": [
  {
   "cell_type": "code",
   "execution_count": 1,
   "metadata": {},
   "outputs": [],
   "source": [
    "import numpy as np\n",
    "import pandas as pd\n",
    "from sklearn.model_selection import train_test_split"
   ]
  },
  {
   "cell_type": "markdown",
   "metadata": {},
   "source": [
    "<p>Import libraries.</p>"
   ]
  },
  {
   "cell_type": "code",
   "execution_count": 2,
   "metadata": {},
   "outputs": [],
   "source": [
    "class linearRegression:\n",
    "    def __init__(self, learning_rate=0.01, iterations=1000):\n",
    "        self.learning_rate = learning_rate\n",
    "        self.iterations = iterations\n",
    "        self.weights = None\n",
    "        self.bias = None\n",
    "\n",
    "    def fit(self, X, y):\n",
    "        n_samples, n_features = X.shape\n",
    "        self.weights = np.zeros(n_features)\n",
    "        self.bias = 0\n",
    "\n",
    "        for _ in range(self.iterations):\n",
    "            y_predicted = np.dot(X, self.weights) + self.bias\n",
    "            dw = (1 / n_samples) * np.dot(X.T, (y_predicted - y))\n",
    "            db = (1 / n_samples) * np.sum(y_predicted - y)\n",
    "            self.weights -= self.learning_rate * dw\n",
    "            self.bias -= self.learning_rate * db\n",
    "\n",
    "    def predict(self, X):\n",
    "        return np.dot(X, self.weights) + self.bias"
   ]
  },
  {
   "cell_type": "markdown",
   "metadata": {},
   "source": [
    "<p>__init__ function: Initialize class variables.</p>\n",
    "<p>fit function: fit the model, create feature matrix and target variable. Use gradient descent to determine weights and bias. Update weights and bias at bottom of loop. </p>\n",
    "<p>predict function: predict values using the trained weights and bias.</p>"
   ]
  },
  {
   "cell_type": "code",
   "execution_count": 3,
   "metadata": {},
   "outputs": [],
   "source": [
    "plays = pd.read_csv(\"data/plays.csv\")"
   ]
  },
  {
   "cell_type": "markdown",
   "metadata": {},
   "source": [
    "Load data"
   ]
  },
  {
   "cell_type": "code",
   "execution_count": 4,
   "metadata": {},
   "outputs": [],
   "source": [
    "def playType(description):\n",
    "    if \"pass\" in description.lower():\n",
    "        return \"Pass\"\n",
    "    elif \"run\" in description.lower():\n",
    "        return \"Run\"\n",
    "    return \"Unknown\"\n",
    "\n",
    "def side(description):\n",
    "    if \"right\" in description.lower():\n",
    "        return \"Right\"\n",
    "    elif \"left\" in description.lower():\n",
    "        return \"Left\"\n",
    "    return \"Center\""
   ]
  },
  {
   "cell_type": "markdown",
   "metadata": {},
   "source": [
    "<p>Extract play type and side data.</p>"
   ]
  },
  {
   "cell_type": "code",
   "execution_count": 5,
   "metadata": {},
   "outputs": [],
   "source": [
    "plays[\"playType\"] = plays[\"playDescription\"].apply(playType)\n",
    "plays[\"playSide\"] = plays[\"playDescription\"].apply(side)"
   ]
  },
  {
   "cell_type": "markdown",
   "metadata": {},
   "source": [
    "<p>Use functions to create new columns.</p>"
   ]
  },
  {
   "cell_type": "code",
   "execution_count": 6,
   "metadata": {},
   "outputs": [],
   "source": [
    "plays[\"yardsGained\"] = plays[\"expectedPointsAdded\"]"
   ]
  },
  {
   "cell_type": "markdown",
   "metadata": {},
   "source": [
    "<p>Yards gained is target variable.</p>"
   ]
  },
  {
   "cell_type": "code",
   "execution_count": 7,
   "metadata": {},
   "outputs": [],
   "source": [
    "filterPlays = plays[\n",
    "   (plays[\"playType\"].isin([\"Pass\", \"Run\"])) &\n",
    "   (plays[\"playSide\"].isin([\"Right\", \"Left\"])) \n",
    "]"
   ]
  },
  {
   "cell_type": "markdown",
   "metadata": {},
   "source": [
    "<p>Filter out Unkown and Center side plays.</p>"
   ]
  },
  {
   "cell_type": "code",
   "execution_count": 8,
   "metadata": {},
   "outputs": [
    {
     "name": "stderr",
     "output_type": "stream",
     "text": [
      "/var/folders/7n/d383kplx7m12pd57mzwv4hsh0000gn/T/ipykernel_13898/2337490182.py:1: SettingWithCopyWarning: \n",
      "A value is trying to be set on a copy of a slice from a DataFrame.\n",
      "Try using .loc[row_indexer,col_indexer] = value instead\n",
      "\n",
      "See the caveats in the documentation: https://pandas.pydata.org/pandas-docs/stable/user_guide/indexing.html#returning-a-view-versus-a-copy\n",
      "  filterPlays[\"encodePlayType\"] = filterPlays[\"playType\"].map({\"Run\": 0, \"Pass\": 1})\n",
      "/var/folders/7n/d383kplx7m12pd57mzwv4hsh0000gn/T/ipykernel_13898/2337490182.py:2: SettingWithCopyWarning: \n",
      "A value is trying to be set on a copy of a slice from a DataFrame.\n",
      "Try using .loc[row_indexer,col_indexer] = value instead\n",
      "\n",
      "See the caveats in the documentation: https://pandas.pydata.org/pandas-docs/stable/user_guide/indexing.html#returning-a-view-versus-a-copy\n",
      "  filterPlays[\"encodeSideType\"] = filterPlays[\"playSide\"].map({\"Left\": 0, \"Right\": 1})\n"
     ]
    }
   ],
   "source": [
    "filterPlays[\"encodePlayType\"] = filterPlays[\"playType\"].map({\"Run\": 0, \"Pass\": 1})\n",
    "filterPlays[\"encodeSideType\"] = filterPlays[\"playSide\"].map({\"Left\": 0, \"Right\": 1})"
   ]
  },
  {
   "cell_type": "code",
   "execution_count": 9,
   "metadata": {},
   "outputs": [],
   "source": [
    "X = filterPlays[[\"encodePlayType\", \"encodeSideType\"]].values\n",
    "y = filterPlays[\"yardsGained\"].values"
   ]
  },
  {
   "cell_type": "markdown",
   "metadata": {},
   "source": [
    "<p>Create feature matrix and target variable.</p>"
   ]
  },
  {
   "cell_type": "code",
   "execution_count": 10,
   "metadata": {},
   "outputs": [],
   "source": [
    "X_train, X_test, y_train, y_test = train_test_split(X, y, test_size = 0.2, random_state=42)"
   ]
  },
  {
   "cell_type": "markdown",
   "metadata": {},
   "source": [
    "<p>Create training and test data splits.</p>"
   ]
  },
  {
   "cell_type": "code",
   "execution_count": 11,
   "metadata": {},
   "outputs": [],
   "source": [
    "linReg = linearRegression(learning_rate=0.01, iterations=1000)\n",
    "linReg.fit(X_train, y_train)"
   ]
  },
  {
   "cell_type": "markdown",
   "metadata": {},
   "source": [
    "<p>Train linear regression model.</p>"
   ]
  },
  {
   "cell_type": "code",
   "execution_count": 12,
   "metadata": {},
   "outputs": [],
   "source": [
    "y_pred = linReg.predict(X_test)"
   ]
  },
  {
   "cell_type": "markdown",
   "metadata": {},
   "source": [
    "<p>Make a prediction!!</p>"
   ]
  },
  {
   "cell_type": "code",
   "execution_count": 13,
   "metadata": {},
   "outputs": [],
   "source": [
    "tester = np.mean((y_test - y_pred) ** 2)"
   ]
  },
  {
   "cell_type": "markdown",
   "metadata": {},
   "source": [
    "<p>Test model effectiveness using mean squared error.</p>"
   ]
  },
  {
   "cell_type": "code",
   "execution_count": 14,
   "metadata": {},
   "outputs": [
    {
     "name": "stdout",
     "output_type": "stream",
     "text": [
      "Mean Squared Error:  1.7789727395176655\n",
      "Weights:  [ 0.31871904 -0.02917914]\n",
      "Bias:  0.3083797422715831\n"
     ]
    }
   ],
   "source": [
    "print(\"Mean Squared Error: \", tester)\n",
    "print(\"Weights: \", linReg.weights)\n",
    "print(\"Bias: \", linReg.bias)"
   ]
  },
  {
   "cell_type": "markdown",
   "metadata": {},
   "source": [
    "<p>Print the results!!</p>"
   ]
  },
  {
   "cell_type": "markdown",
   "metadata": {},
   "source": [
    "# Interpreting the Results\n",
    "<p>A Mean Sequare Error of 1.779 suggest the model's predictions are somewhat close to the actual values but there is still a little bit of error involved.</p>\n",
    "<p>First Weight: 0.319. Since the first weight is a positive value and a \"Pass\" was encoded as 1, this means that a \"Pass\" tends to increase yards gained or expected pointed added compared to a \"Run,\" which was encoded as a 0.</p>\n",
    "<p>Second Weight: -0.029. Since the second weight is a negative value and a play on the \"Right\" side of the field was encoded as a 1, plays on the \"Right\" side of the field tend to decrease the yards gained or expected points added compared to plays on the \"Left\" side of the field that were encoded as \"0\". There is a very small bias though.</p>\n",
    "<p>Bias: 0.308. When both play type and play side are encoded to 0 (\"Run\" play to the \"Left\" side), the linear regression predicts a value of 0.308 for the yards gained or expected points added.</p>\n",
    "<p>To conclude, \"Pass\" plays have a stronger, positive influence on the yards gained or expected points added. Plays on the \"Left\" side of the field have a slightly more postiive effect on yards gained or expected points added than plays on the \"Right\" side of the field.</p>"
   ]
  },
  {
   "cell_type": "markdown",
   "metadata": {},
   "source": []
  }
 ],
 "metadata": {
  "kernelspec": {
   "display_name": "Python 3",
   "language": "python",
   "name": "python3"
  },
  "language_info": {
   "codemirror_mode": {
    "name": "ipython",
    "version": 3
   },
   "file_extension": ".py",
   "mimetype": "text/x-python",
   "name": "python",
   "nbconvert_exporter": "python",
   "pygments_lexer": "ipython3",
   "version": "3.12.5"
  }
 },
 "nbformat": 4,
 "nbformat_minor": 2
}
