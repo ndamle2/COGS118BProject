{
 "cells": [
  {
   "cell_type": "code",
   "execution_count": 27,
   "id": "cb9e3e4b-54de-42f5-a7b8-7a866d6c2374",
   "metadata": {},
   "outputs": [],
   "source": [
    "import pandas as pd\n",
    "import numpy as np\n",
    "from sklearn.ensemble import RandomForestClassifier\n",
    "from sklearn.model_selection import train_test_split"
   ]
  },
  {
   "cell_type": "code",
   "execution_count": 28,
   "id": "1b02ce5d-b259-42ed-a76b-55ddc8790023",
   "metadata": {},
   "outputs": [],
   "source": [
    "# load dataframes\n",
    "games = pd.read_csv(\"data/games.csv\")\n",
    "plays = pd.read_csv(\"data/plays.csv\")\n",
    "tackles = pd.read_csv(\"data/tackles.csv\")\n",
    "players = pd.read_csv(\"data/players.csv\")\n"
   ]
  },
  {
   "cell_type": "code",
   "execution_count": 29,
   "id": "3b23e19e-387a-417b-836b-e7fb3aff4bc7",
   "metadata": {},
   "outputs": [],
   "source": [
    "# add target var (can also use play desc to count scrambles as runs)\n",
    "plays[\"run\"] = plays[\"passResult\"].isna()"
   ]
  },
  {
   "cell_type": "code",
   "execution_count": 30,
   "id": "208f39dc-c535-417c-9930-56802347bad0",
   "metadata": {},
   "outputs": [],
   "source": [
    "# filter plays dataframe\n",
    "plays_filtered=plays[[\"gameId\", \"playId\", \"run\", \"quarter\", \"down\", \"yardsToGo\", \"possessionTeam\", \"defensiveTeam\",\n",
    "                      \"yardlineSide\", \"yardlineNumber\", \"gameClock\", \"preSnapHomeScore\", \"preSnapVisitorScore\", \"absoluteYardlineNumber\",\n",
    "                      \"preSnapHomeTeamWinProbability\", \"expectedPoints\", \"offenseFormation\", \"defendersInTheBox\",\n",
    "                      \"homeTeamWinProbabilityAdded\", \"expectedPointsAdded\"]]"
   ]
  },
  {
   "cell_type": "code",
   "execution_count": 31,
   "id": "a6681d7b-80c8-4bde-9409-d5fbc6acf911",
   "metadata": {},
   "outputs": [],
   "source": [
    "# filter games dataframe\n",
    "games_filtered = games[[\"gameId\", \"week\", \"gameTimeEastern\", \"homeFinalScore\", \"visitorFinalScore\"]]"
   ]
  },
  {
   "cell_type": "code",
   "execution_count": 32,
   "id": "ad22c6e8-db6f-42ac-9386-ebb63ac2e8b8",
   "metadata": {},
   "outputs": [],
   "source": [
    "# filter players dataframe\n",
    "players_filtered = players[[\"position\", \"nflId\"]]"
   ]
  },
  {
   "cell_type": "code",
   "execution_count": 33,
   "id": "cf2d127a-bda3-40b4-9ae5-9c621792b547",
   "metadata": {},
   "outputs": [],
   "source": [
    "# filter tackles\n",
    "tackles_filtered = tackles[[\"gameId\", \"playId\", \"tackle\", \"assist\", \"forcedFumble\", \"pff_missedTackle\"]]\n",
    "tackles_filtered = tackles_filtered.groupby([\"gameId\", \"playId\"]).sum().reset_index()"
   ]
  },
  {
   "cell_type": "code",
   "execution_count": 34,
   "id": "fb3a00b0-0027-492c-8cae-d8650d92b02e",
   "metadata": {},
   "outputs": [],
   "source": [
    "# merge plays and games\n",
    "merged1 = plays_filtered.merge(games_filtered, on=\"gameId\")"
   ]
  },
  {
   "cell_type": "code",
   "execution_count": 35,
   "id": "d0d8e272-b01d-47e3-bc91-f15f3076e611",
   "metadata": {},
   "outputs": [],
   "source": [
    "# merge tackles and merged1\n",
    "data = merged1.merge(tackles_filtered, on=[\"gameId\", \"playId\"], how=\"left\")"
   ]
  },
  {
   "cell_type": "code",
   "execution_count": 36,
   "id": "4146d0c3-38da-4d81-aa6c-b5f7cebc228d",
   "metadata": {},
   "outputs": [
    {
     "data": {
      "text/plain": [
       "gameId                             int64\n",
       "playId                             int64\n",
       "run                                 bool\n",
       "quarter                            int64\n",
       "down                               int64\n",
       "yardsToGo                          int64\n",
       "possessionTeam                    object\n",
       "defensiveTeam                     object\n",
       "yardlineSide                      object\n",
       "yardlineNumber                     int64\n",
       "gameClock                         object\n",
       "preSnapHomeScore                   int64\n",
       "preSnapVisitorScore                int64\n",
       "absoluteYardlineNumber             int64\n",
       "preSnapHomeTeamWinProbability    float64\n",
       "expectedPoints                   float64\n",
       "offenseFormation                  object\n",
       "defendersInTheBox                float64\n",
       "homeTeamWinProbabilityAdded      float64\n",
       "expectedPointsAdded              float64\n",
       "week                               int64\n",
       "gameTimeEastern                   object\n",
       "homeFinalScore                     int64\n",
       "visitorFinalScore                  int64\n",
       "tackle                           float64\n",
       "assist                           float64\n",
       "forcedFumble                     float64\n",
       "pff_missedTackle                 float64\n",
       "dtype: object"
      ]
     },
     "execution_count": 36,
     "metadata": {},
     "output_type": "execute_result"
    }
   ],
   "source": [
    "data.dtypes"
   ]
  },
  {
   "cell_type": "code",
   "execution_count": 37,
   "id": "40e6e5df-b054-472f-8200-273d40622ac2",
   "metadata": {},
   "outputs": [],
   "source": [
    "def str_to_time(time):\n",
    "    splt = time.split(\":\")\n",
    "    return int(splt[0]) * 60 + int(splt[1])\n",
    "data[\"gameTimeEastern\"] = data[\"gameTimeEastern\"].apply(str_to_time)"
   ]
  },
  {
   "cell_type": "code",
   "execution_count": 39,
   "id": "f5791872-3d94-4095-ba44-1d54ed3853d4",
   "metadata": {},
   "outputs": [
    {
     "data": {
      "text/plain": [
       "0         7:52\n",
       "1         4:52\n",
       "2         4:43\n",
       "3         1:10\n",
       "4        10:28\n",
       "         ...  \n",
       "12481    14:24\n",
       "12482     1:53\n",
       "12483    11:37\n",
       "12484     6:03\n",
       "12485     7:13\n",
       "Name: gameClock, Length: 12486, dtype: object"
      ]
     },
     "execution_count": 39,
     "metadata": {},
     "output_type": "execute_result"
    }
   ],
   "source": [
    "data[\"gameClock\"]"
   ]
  },
  {
   "cell_type": "code",
   "execution_count": 5,
   "id": "40591e60-7bb4-4dba-aa45-4adac08e85c2",
   "metadata": {},
   "outputs": [
    {
     "ename": "NameError",
     "evalue": "name 'data' is not defined",
     "output_type": "error",
     "traceback": [
      "\u001b[0;31m---------------------------------------------------------------------------\u001b[0m",
      "\u001b[0;31mNameError\u001b[0m                                 Traceback (most recent call last)",
      "Cell \u001b[0;32mIn[5], line 1\u001b[0m\n\u001b[0;32m----> 1\u001b[0m X \u001b[38;5;241m=\u001b[39m data\u001b[38;5;241m.\u001b[39mdrop(\u001b[38;5;124m\"\u001b[39m\u001b[38;5;124mrun\u001b[39m\u001b[38;5;124m\"\u001b[39m)\n\u001b[1;32m      2\u001b[0m y \u001b[38;5;241m=\u001b[39m data[\u001b[38;5;124m\"\u001b[39m\u001b[38;5;124mrun\u001b[39m\u001b[38;5;124m\"\u001b[39m]\n",
      "\u001b[0;31mNameError\u001b[0m: name 'data' is not defined"
     ]
    }
   ],
   "source": [
    "X = data.drop(\"run\")\n",
    "y = data[\"run\"]"
   ]
  },
  {
   "cell_type": "code",
   "execution_count": 24,
   "id": "a9539f4f-721d-4d47-8e73-f7d0d503d1b2",
   "metadata": {},
   "outputs": [
    {
     "data": {
      "text/plain": [
       "['s', 's', 'rh']"
      ]
     },
     "execution_count": 24,
     "metadata": {},
     "output_type": "execute_result"
    }
   ],
   "source": [
    "\"sgsgrh\".split(\"g\")"
   ]
  },
  {
   "cell_type": "code",
   "execution_count": null,
   "id": "aa02c310-a91b-4fd6-b212-2eb832f6c99d",
   "metadata": {},
   "outputs": [],
   "source": []
  }
 ],
 "metadata": {
  "kernelspec": {
   "display_name": "Python 3 (ipykernel)",
   "language": "python",
   "name": "python3"
  },
  "language_info": {
   "codemirror_mode": {
    "name": "ipython",
    "version": 3
   },
   "file_extension": ".py",
   "mimetype": "text/x-python",
   "name": "python",
   "nbconvert_exporter": "python",
   "pygments_lexer": "ipython3",
   "version": "3.11.10"
  }
 },
 "nbformat": 4,
 "nbformat_minor": 5
}
